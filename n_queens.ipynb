{
 "cells": [
  {
   "cell_type": "code",
   "execution_count": null,
   "id": "43e5f5e4",
   "metadata": {},
   "outputs": [],
   "source": [
    "import chess\n",
    "import random\n",
    "import time"
   ]
  },
  {
   "cell_type": "markdown",
   "id": "cb30632c",
   "metadata": {},
   "source": [
    "# Tunable Parameters"
   ]
  },
  {
   "cell_type": "code",
   "execution_count": null,
   "id": "ff10d0a9",
   "metadata": {},
   "outputs": [],
   "source": [
    "# default parameters\n",
    "N = 8\n",
    "POPULATION_SIZE = 100\n",
    "GENERATIONS = 10000\n",
    "MUTATION_RATE = 0.8\n",
    "MAX_FITNESS = int((N * (N-1))/2)"
   ]
  },
  {
   "cell_type": "markdown",
   "id": "661f541d",
   "metadata": {},
   "source": [
    "# Evolutionary Algorithm Implementation"
   ]
  },
  {
   "cell_type": "code",
   "execution_count": null,
   "id": "194ced7f",
   "metadata": {},
   "outputs": [],
   "source": [
    "# returns list of size N with all unique values\n",
    "def generate_individual(N):\n",
    "    #individual = [x for x in range(N)]\n",
    "    #random.shuffle(individual)\n",
    "    individual = [random.randrange(0,8) for i in range(N)]\n",
    "    return individual"
   ]
  },
  {
   "cell_type": "code",
   "execution_count": null,
   "id": "4ff97b30",
   "metadata": {},
   "outputs": [],
   "source": [
    "a = generate_individual(8)\n",
    "print(a)"
   ]
  },
  {
   "cell_type": "code",
   "execution_count": null,
   "id": "d6910803",
   "metadata": {},
   "outputs": [],
   "source": [
    "# adds another individual for the incremental approach\n",
    "def add_individual(population, N):\n",
    "    for i, individual in enumerate(population):\n",
    "        if len(individual) < N:\n",
    "            new_individual = individual + [random.randint(0, N-1)]\n",
    "            population[i] = new_individual\n",
    "    return population\n"
   ]
  },
  {
   "cell_type": "code",
   "execution_count": null,
   "id": "4949f90a",
   "metadata": {},
   "outputs": [],
   "source": [
    "N=4\n",
    "while N < 8:\n",
    "    a = [generate_individual(N) for _ in range(N)]\n",
    "    print(f\"{N=}\")\n",
    "    N += 1\n",
    "    print(add_individual(a,N))"
   ]
  },
  {
   "cell_type": "code",
   "execution_count": null,
   "id": "526c1342",
   "metadata": {},
   "outputs": [],
   "source": [
    "# test for generate_individual\n",
    "for _ in range(5):\n",
    "    print(generate_individual(N))"
   ]
  },
  {
   "cell_type": "code",
   "execution_count": null,
   "id": "72f270ab",
   "metadata": {},
   "outputs": [],
   "source": [
    "# returns the fitness of a possible solution\n",
    "def fitness(solution):\n",
    "    attacking_queen_pairs = 0\n",
    "    for i in range(N):\n",
    "        for j in range(i+1, N):\n",
    "            #print(f\"{N=} {i=} {j=} {len(solution)}\")\n",
    "            # if on same row or on diagonal\n",
    "            if solution[i] == solution[j] or abs(solution[i] - solution[j]) == abs(i - j):\n",
    "                attacking_queen_pairs += 1\n",
    "                \n",
    "    return MAX_FITNESS - attacking_queen_pairs"
   ]
  },
  {
   "cell_type": "code",
   "execution_count": null,
   "id": "f115ae98",
   "metadata": {},
   "outputs": [],
   "source": [
    "# fitness function tests\n",
    "a = [7,1,4,2,0,6,3,5]\n",
    "print(fitness(a))\n",
    "b = [1,2,3,4,5,6,7,8]\n",
    "print(fitness(b))"
   ]
  },
  {
   "cell_type": "code",
   "execution_count": null,
   "id": "9d72f446",
   "metadata": {},
   "outputs": [],
   "source": [
    "# mutates possible solution\n",
    "def mutate(solution):\n",
    "    if random.random() > (1 - MUTATION_RATE):\n",
    "        idx_1 = random.randrange(N)\n",
    "        idx_2 = random.randrange(N)\n",
    "        # swap the two random indices\n",
    "        solution[idx_1], solution[idx_2] = solution[idx_2], solution[idx_1]\n",
    "        return solution\n",
    "    else:\n",
    "        return solution"
   ]
  },
  {
   "cell_type": "code",
   "execution_count": null,
   "id": "7b48150d",
   "metadata": {},
   "outputs": [],
   "source": [
    "# mutation test\n",
    "a = [1,2,3,4,5,6,7,8]\n",
    "print(mutate(a))"
   ]
  },
  {
   "cell_type": "code",
   "execution_count": null,
   "id": "b86edea3",
   "metadata": {},
   "outputs": [],
   "source": [
    "# random one-point crossover function, returns two new children\n",
    "def cut_and_crossover(solution1, solution2):\n",
    "    cross_point = random.randrange(N) \n",
    "    # perform the crossover\n",
    "    solution1[:cross_point], solution2[:cross_point] = solution2[:cross_point], solution1[:cross_point]\n",
    "    return solution1, solution2"
   ]
  },
  {
   "cell_type": "code",
   "execution_count": null,
   "id": "2d5008ac",
   "metadata": {},
   "outputs": [],
   "source": [
    "# tests of cut_and_crossover\n",
    "a = [1,2,3,4,5,6,7,8]\n",
    "b = [12,34,53,3,65,2,65,87]\n",
    "print(cut_and_crossover(a,b))"
   ]
  },
  {
   "cell_type": "code",
   "execution_count": null,
   "id": "ef6ce94f",
   "metadata": {},
   "outputs": [],
   "source": [
    "# finds and returns top two parents\n",
    "def parent_selection(top_five):\n",
    "    random.shuffle(top_five) # shuffle to ensure top solutions are not always chosen\n",
    "    top_five = sorted(top_five, key=fitness, reverse=True) # sort by fitness\n",
    "    return top_five[:2]"
   ]
  },
  {
   "cell_type": "code",
   "execution_count": null,
   "id": "08abd0ad",
   "metadata": {},
   "outputs": [],
   "source": [
    "# tests for parent_selection and with cut_and_crossover\n",
    "a = [0, 7, 2, 4, 6, 1, 3, 5]\n",
    "b = [4, 1, 3, 0, 7, 5, 2, 6]\n",
    "c = [3, 0, 6, 1, 5, 7, 2, 4]\n",
    "d = [2, 4, 6, 1, 3, 0, 7, 5]\n",
    "e = [3, 6, 2, 7, 0, 4, 5, 1]\n",
    "\n",
    "top = [a,b,c,d,e]\n",
    "parents = parent_selection(top)\n",
    "print(f\"{parents=}\")\n",
    "parent1, parent2 = cut_and_crossover(parents[0], parents[1])\n",
    "print(f\"{parent1=}, {parent2=}\")"
   ]
  },
  {
   "cell_type": "code",
   "execution_count": null,
   "id": "dc9d6101",
   "metadata": {},
   "outputs": [],
   "source": [
    "# the evolutionary algorithm, returns the best solution and what generation it was found in\n",
    "def evo_alg(population, N):\n",
    "    \n",
    "    for generation in range(GENERATIONS):\n",
    "        # sort population by best fitness to worst\n",
    "        population = sorted(population, key=fitness, reverse=True)\n",
    "        \n",
    "        # early termination if true solution found\n",
    "        if fitness(population[0]) == MAX_FITNESS:\n",
    "            return population, generation\n",
    "        \n",
    "        # select top 5 parents, take best two and perform crossover for offspring\n",
    "        parents = parent_selection(population[:5])\n",
    "        child1, child2 = cut_and_crossover(parents[0], parents[1])\n",
    "        \n",
    "        # mutate children\n",
    "        child1 = mutate(child1)\n",
    "        child2 = mutate(child2)\n",
    "        \n",
    "        # calculate fitness of children to then place into population\n",
    "        child1_fitness = fitness(child1)\n",
    "        child2_fitness = fitness(child2)\n",
    "        \n",
    "        # find and replace the first individual in population with lower fitness than child 1\n",
    "        for idx, individual in enumerate(population):\n",
    "            if child1_fitness > fitness(individual):\n",
    "                population[idx] = child1\n",
    "                break\n",
    "                \n",
    "        # find and replace the first individual in population with lower fitness than child 2\n",
    "        for idx, individual in enumerate(population):\n",
    "            if child2_fitness > fitness(individual):\n",
    "                population[idx] = child2\n",
    "                break\n",
    "                \n",
    "    return population, GENERATIONS"
   ]
  },
  {
   "cell_type": "markdown",
   "id": "06358a07",
   "metadata": {},
   "source": [
    "# Run the algorithm"
   ]
  },
  {
   "cell_type": "code",
   "execution_count": null,
   "id": "9ccd25f2",
   "metadata": {},
   "outputs": [],
   "source": [
    "# run the evolutionary algorithm\n",
    "N = 8\n",
    "initial_population = [generate_individual(N) for _ in range(POPULATION_SIZE)]\n",
    "\n",
    "# run algorithm and save best solution\n",
    "sol, gen = evo_alg(initial_population, N)\n",
    "best_solution = sol[0]\n",
    "\n",
    "print(best_solution, gen)\n",
    "print(fitness(best_solution))\n",
    "board_visualize(best_solution)"
   ]
  },
  {
   "cell_type": "markdown",
   "id": "e5768bda",
   "metadata": {},
   "source": [
    "# Generate solutions (evolutionary algorithm)"
   ]
  },
  {
   "cell_type": "code",
   "execution_count": null,
   "id": "9c1a52ff",
   "metadata": {},
   "outputs": [],
   "source": [
    "def solution_generator(N, POPULATION_SIZE):\n",
    "    while True:\n",
    "        initial_population = [generate_individual(N) for _ in range(POPULATION_SIZE)]\n",
    "        MAX_FITNESS = int((N * (N-1))/2)\n",
    "        sol, gen = evo_alg(initial_population, N)\n",
    "        best_solution = sol[0]\n",
    "        if fitness(best_solution) == MAX_FITNESS:\n",
    "            yield best_solution"
   ]
  },
  {
   "cell_type": "code",
   "execution_count": null,
   "id": "9a02c3fb",
   "metadata": {},
   "outputs": [],
   "source": [
    "def run_solution_generator(N, POPULATION_SIZE):\n",
    "    generator = solution_generator(N, POPULATION_SIZE)\n",
    "    solution = next(generator)\n",
    "\n",
    "    print(f\"Solution: {solution}, {fitness(solution)=}\" )\n",
    "    return solution"
   ]
  },
  {
   "cell_type": "code",
   "execution_count": null,
   "id": "262b630b",
   "metadata": {},
   "outputs": [],
   "source": [
    "N = 8\n",
    "POPULATION_SIZE = 100\n",
    "\n",
    "solution = run_solution_generator(N, POPULATION_SIZE)\n",
    "board_visualize(solution)"
   ]
  },
  {
   "cell_type": "markdown",
   "id": "42fdbffe",
   "metadata": {},
   "source": [
    "# Generate solutions (pure random)"
   ]
  },
  {
   "cell_type": "code",
   "execution_count": null,
   "id": "38f149d1",
   "metadata": {},
   "outputs": [],
   "source": [
    "def random_solution(N):\n",
    "    MAX_FITNESS = int((N * (N-1))/2)\n",
    "    while True:\n",
    "        solution = generate_individual(N)\n",
    "        if fitness(solution) == MAX_FITNESS:\n",
    "            return solution"
   ]
  },
  {
   "cell_type": "code",
   "execution_count": null,
   "id": "3b579ab8",
   "metadata": {},
   "outputs": [],
   "source": [
    "N = 8\n",
    "solution = random_solution(N)\n",
    "print(solution)\n",
    "#board_visualize(solution)"
   ]
  },
  {
   "cell_type": "markdown",
   "id": "6b27e421",
   "metadata": {},
   "source": [
    "# Incremental Approach"
   ]
  },
  {
   "cell_type": "code",
   "execution_count": null,
   "id": "3ada4388",
   "metadata": {},
   "outputs": [],
   "source": [
    "N = 4\n",
    "start = True\n",
    "\n",
    "while N <= 8:\n",
    "    # need to recalculate max_fitness for every change of N\n",
    "    MAX_FITNESS = int((N * (N-1))/2)\n",
    "    print(f\"{N=} {MAX_FITNESS=}\")\n",
    "    \n",
    "    # create population if start else extend population\n",
    "    if start:\n",
    "        population = [generate_individual(N) for _ in range(POPULATION_SIZE)]\n",
    "    else:\n",
    "        population = add_individual(population,N+1)\n",
    "    \n",
    "    # find best solution through GENERATIONS\n",
    "    sol, gen = evo_alg(population, N)\n",
    "    best_solution = sol[0]\n",
    "    \n",
    "    # new population is previous solution \n",
    "    population = sol\n",
    "    \n",
    "    print(f\"{best_solution = }, {fitness(best_solution) = }\\n\")\n",
    "    N += 1\n",
    "    start = False    "
   ]
  },
  {
   "cell_type": "markdown",
   "id": "9ad51519",
   "metadata": {},
   "source": [
    "# Visualize the board"
   ]
  },
  {
   "cell_type": "code",
   "execution_count": null,
   "id": "96330ad2",
   "metadata": {},
   "outputs": [],
   "source": [
    "# mirrors solutions at the moment (still seems to be a solution though!)\n",
    "def board_visualize(solution):\n",
    "    # initialize board and clear it\n",
    "    board = chess.Board()\n",
    "    board.clear()\n",
    "\n",
    "    # zip together files and row numbers from solution to get queen locations\n",
    "    # probably a more clever way of doing this somehow\n",
    "    files = ['a','b','c','d','e','f','g','h']\n",
    "    queen_squares = []\n",
    "    for idx, i in enumerate(files):\n",
    "        queen_squares.append(i + str(solution[idx]+1))\n",
    "\n",
    "\n",
    "    # create move and push it to the board\n",
    "    for i in queen_squares:\n",
    "        square = chess.parse_square(str(i))\n",
    "        #queen = chess.Piece(chess.QUEEN, chess.WHITE)\n",
    "        move = chess.Move(from_square=square, to_square=square, drop=chess.QUEEN)\n",
    "        board.push(move)\n",
    "\n",
    "    # display the board\n",
    "    return board"
   ]
  },
  {
   "cell_type": "markdown",
   "id": "1fe7c9a7",
   "metadata": {},
   "source": [
    "# Algorithm Benchmarking"
   ]
  },
  {
   "cell_type": "code",
   "execution_count": null,
   "id": "59969ff1",
   "metadata": {},
   "outputs": [],
   "source": [
    "N = 8\n",
    "MAX_FITNESS = (N * (N-1))/2\n",
    "\n",
    "successful_attempts = 0\n",
    "generations_of_successful_attempts = []\n",
    "for i in range(100):\n",
    "    initial_population = [generate_individual(N) for _ in range(POPULATION_SIZE)]\n",
    "    print(f\"{i}%\")\n",
    "    sol, gen = evo_alg(initial_population, N)\n",
    "    best_solution = sol[0]\n",
    "    if fitness(best_solution) == MAX_FITNESS:\n",
    "        successful_attempts += 1\n",
    "        generations_of_successful_attempts.append(gen)\n",
    "        \n",
    "print(f\"Evolutionary Algorithm Success Rate: {successful_attempts/100}\")\n",
    "print(generations_of_successful_attempts)\n",
    "    "
   ]
  },
  {
   "cell_type": "markdown",
   "id": "f9395ce8",
   "metadata": {},
   "source": [
    "# Find all solutions"
   ]
  },
  {
   "cell_type": "code",
   "execution_count": null,
   "id": "c48a7c84",
   "metadata": {
    "scrolled": true
   },
   "outputs": [],
   "source": [
    "true_solutions = []\n",
    "start = time.time()\n",
    "while len(true_solutions) < 92:\n",
    "    generator = solution_generator(N, POPULATION_SIZE)\n",
    "    solution = next(generator)\n",
    "    if solution in true_solutions:\n",
    "        continue\n",
    "    else:\n",
    "        true_solutions.append(solution)\n",
    "end = time.time()\n",
    "print(end - start)\n",
    "print(true_solutions, sep=\"\\n\")"
   ]
  }
 ],
 "metadata": {
  "kernelspec": {
   "display_name": "Python 3 (ipykernel)",
   "language": "python",
   "name": "python3"
  },
  "language_info": {
   "codemirror_mode": {
    "name": "ipython",
    "version": 3
   },
   "file_extension": ".py",
   "mimetype": "text/x-python",
   "name": "python",
   "nbconvert_exporter": "python",
   "pygments_lexer": "ipython3",
   "version": "3.10.12"
  }
 },
 "nbformat": 4,
 "nbformat_minor": 5
}
