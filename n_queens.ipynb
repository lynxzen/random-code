{
 "cells": [
  {
   "cell_type": "code",
   "execution_count": 16,
   "id": "43e5f5e4",
   "metadata": {},
   "outputs": [],
   "source": [
    "import random"
   ]
  },
  {
   "cell_type": "code",
   "execution_count": 253,
   "id": "ff10d0a9",
   "metadata": {},
   "outputs": [],
   "source": [
    "N = 8\n",
    "POPULATION_SIZE = 100\n",
    "GENERATIONS = 10000\n",
    "MUTATION_RATE = 0.8"
   ]
  },
  {
   "cell_type": "code",
   "execution_count": 262,
   "id": "194ced7f",
   "metadata": {},
   "outputs": [],
   "source": [
    "# returns list of size N with all unique values\n",
    "def generate_individual(N):\n",
    "    individual = [x for x in range(N)]\n",
    "    random.shuffle(individual)\n",
    "    return individual"
   ]
  },
  {
   "cell_type": "code",
   "execution_count": 263,
   "id": "526c1342",
   "metadata": {},
   "outputs": [
    {
     "name": "stdout",
     "output_type": "stream",
     "text": [
      "[5, 7, 3, 1, 4, 2, 6, 0]\n",
      "[5, 2, 3, 7, 4, 1, 6, 0]\n",
      "[6, 3, 7, 0, 5, 1, 2, 4]\n",
      "[7, 4, 6, 1, 2, 0, 5, 3]\n",
      "[1, 2, 7, 6, 3, 4, 5, 0]\n"
     ]
    }
   ],
   "source": [
    "# test for generate_individual\n",
    "for _ in range(5):\n",
    "    print(generate_individual(N))"
   ]
  },
  {
   "cell_type": "code",
   "execution_count": 264,
   "id": "72f270ab",
   "metadata": {},
   "outputs": [],
   "source": [
    "# returns the fitness of a possible solution\n",
    "# TODO: make this function work with arbitrary board sizes\n",
    "def fitness(solution):\n",
    "    attacking_queen_pairs = 0\n",
    "    for i in range(N):\n",
    "        for j in range(i+1, N):\n",
    "            if solution[i] == solution[j] or abs(solution[i] - solution[j]) == abs(i - j):\n",
    "                attacking_queen_pairs += 1\n",
    "    #print(attacking_queen_pairs)\n",
    "    return 28 - attacking_queen_pairs"
   ]
  },
  {
   "cell_type": "code",
   "execution_count": 265,
   "id": "f115ae98",
   "metadata": {},
   "outputs": [
    {
     "name": "stdout",
     "output_type": "stream",
     "text": [
      "28\n",
      "0\n"
     ]
    }
   ],
   "source": [
    "# fitness function tests\n",
    "a = [7,1,4,2,0,6,3,5]\n",
    "print(fitness(a))\n",
    "b = [1,2,3,4,5,6,7,8]\n",
    "print(fitness(b))"
   ]
  },
  {
   "cell_type": "code",
   "execution_count": 279,
   "id": "9d72f446",
   "metadata": {},
   "outputs": [],
   "source": [
    "# mutates possible solution\n",
    "def mutate(solution):\n",
    "    if random.random() > (1 - MUTATION_RATE):\n",
    "        idx_1 = random.randrange(N)\n",
    "        idx_2 = random.randrange(N)\n",
    "        # swap the two random indices\n",
    "        solution[idx_1], solution[idx_2] = solution[idx_2], solution[idx_1]\n",
    "        return solution\n",
    "    else:\n",
    "        return solution"
   ]
  },
  {
   "cell_type": "code",
   "execution_count": 280,
   "id": "7b48150d",
   "metadata": {},
   "outputs": [
    {
     "name": "stdout",
     "output_type": "stream",
     "text": [
      "[1, 2, 5, 4, 3, 6, 7, 8]\n"
     ]
    }
   ],
   "source": [
    "# mutation test\n",
    "a = [1,2,3,4,5,6,7,8]\n",
    "print(mutate(a))"
   ]
  },
  {
   "cell_type": "code",
   "execution_count": 268,
   "id": "b86edea3",
   "metadata": {},
   "outputs": [],
   "source": [
    "# one-point crossover function, returns two new children\n",
    "def cut_and_crossover(solution1, solution2):\n",
    "    cross_point = random.randrange(N)\n",
    "    solution1[:cross_point], solution2[:cross_point] = solution2[:cross_point], solution1[:cross_point]\n",
    "    return solution1, solution2"
   ]
  },
  {
   "cell_type": "code",
   "execution_count": 269,
   "id": "2d5008ac",
   "metadata": {},
   "outputs": [
    {
     "name": "stdout",
     "output_type": "stream",
     "text": [
      "([12, 34, 53, 3, 65, 6, 7, 8], [1, 2, 3, 4, 5, 2, 65, 87])\n"
     ]
    }
   ],
   "source": [
    "# tests of cut_and_crossover\n",
    "a = [1,2,3,4,5,6,7,8]\n",
    "b = [12,34,53,3,65,2,65,87]\n",
    "print(cut_and_crossover(a,b))"
   ]
  },
  {
   "cell_type": "code",
   "execution_count": 271,
   "id": "ef6ce94f",
   "metadata": {},
   "outputs": [],
   "source": [
    "# finds and returns top two parents\n",
    "def parent_selection(top_five):\n",
    "    random.shuffle(top_five)\n",
    "    top_five = sorted(top_five, key=fitness, reverse=True)\n",
    "    #fitnesses = [fitness(x) for x in top_five]\n",
    "    return top_five[:2]"
   ]
  },
  {
   "cell_type": "code",
   "execution_count": 272,
   "id": "08abd0ad",
   "metadata": {},
   "outputs": [
    {
     "name": "stdout",
     "output_type": "stream",
     "text": [
      "parents=[[3, 0, 6, 1, 5, 7, 2, 4], [4, 1, 3, 0, 7, 5, 2, 6]]\n",
      "parent1=[4, 1, 3, 0, 7, 5, 2, 4], parent2=[3, 0, 6, 1, 5, 7, 2, 6]\n"
     ]
    }
   ],
   "source": [
    "# tests for parent_selection and with cut_and_crossover\n",
    "a = [0, 7, 2, 4, 6, 1, 3, 5]\n",
    "b = [4, 1, 3, 0, 7, 5, 2, 6]\n",
    "c = [3, 0, 6, 1, 5, 7, 2, 4]\n",
    "d = [2, 4, 6, 1, 3, 0, 7, 5]\n",
    "e = [3, 6, 2, 7, 0, 4, 5, 1]\n",
    "\n",
    "top = [a,b,c,d,e]\n",
    "parents = parent_selection(top)\n",
    "print(f\"{parents=}\")\n",
    "parent1, parent2 = cut_and_crossover(parents[0], parents[1])\n",
    "print(f\"{parent1=}, {parent2=}\")"
   ]
  },
  {
   "cell_type": "code",
   "execution_count": 281,
   "id": "dc9d6101",
   "metadata": {},
   "outputs": [],
   "source": [
    "# the evolutionary algorithm, returns the best solution and what generation it was found in\n",
    "def evo_alg(N):\n",
    "    population = [generate_individual(N) for _ in range(POPULATION_SIZE)]\n",
    "    \n",
    "    for generation in range(GENERATIONS):\n",
    "        # sort population by best fitness to worst\n",
    "        population = sorted(population, key=fitness, reverse=True)\n",
    "        \n",
    "        # early termination if true solution found\n",
    "        if fitness(population[0]) == 28:\n",
    "            return population[0], generation\n",
    "        \n",
    "        # select top 5 parents, take best two and perform crossover for offspring\n",
    "        parents = parent_selection(population[:5])\n",
    "        child1, child2 = cut_and_crossover(parents[0], parents[1])\n",
    "        \n",
    "        # calculate fitness of children to then place into population\n",
    "        child1_fitness = fitness(child1)\n",
    "        child2_fitness = fitness(child2)\n",
    "        \n",
    "        \n",
    "        for idx, individual in enumerate(population):\n",
    "            if child1_fitness > fitness(individual):\n",
    "                #print(child1_fitness, fitness(individual), idx, generation)\n",
    "                population[idx] = child1\n",
    "                break\n",
    "                \n",
    "        for idx, individual in enumerate(population):\n",
    "            if child2_fitness > fitness(individual):\n",
    "                population[idx] = child2\n",
    "                break\n",
    "    return population[0], GENERATIONS"
   ]
  },
  {
   "cell_type": "code",
   "execution_count": 286,
   "id": "9ccd25f2",
   "metadata": {},
   "outputs": [
    {
     "name": "stdout",
     "output_type": "stream",
     "text": [
      "[2, 0, 6, 4, 1, 5, 7, 3] 10000\n",
      "26\n"
     ]
    }
   ],
   "source": [
    "# run the evolutionary algorithm\n",
    "sol, gen = evo_alg(N)\n",
    "print(sol, gen)\n",
    "print(fitness(sol))"
   ]
  },
  {
   "cell_type": "code",
   "execution_count": null,
   "id": "59969ff1",
   "metadata": {},
   "outputs": [],
   "source": [
    "successful_attempts = 0\n",
    "generations_of_successful_attempts = []\n",
    "for i in range(100):\n",
    "    sol, gen = evo_alg(N)\n",
    "    if fitness(sol) == 28:\n",
    "        successful_attempts += 1\n",
    "        generations_of_successful_attempts.append(gen)\n",
    "        \n",
    "print(f\"Evolutionary Algorithm Success Rate: {successful_attempts/100}\")\n",
    "print(generations_of_successful_attempts)\n",
    "    "
   ]
  },
  {
   "cell_type": "code",
   "execution_count": null,
   "id": "a0ae25f9",
   "metadata": {},
   "outputs": [],
   "source": []
  }
 ],
 "metadata": {
  "kernelspec": {
   "display_name": "Python 3 (ipykernel)",
   "language": "python",
   "name": "python3"
  },
  "language_info": {
   "codemirror_mode": {
    "name": "ipython",
    "version": 3
   },
   "file_extension": ".py",
   "mimetype": "text/x-python",
   "name": "python",
   "nbconvert_exporter": "python",
   "pygments_lexer": "ipython3",
   "version": "3.10.12"
  }
 },
 "nbformat": 4,
 "nbformat_minor": 5
}
